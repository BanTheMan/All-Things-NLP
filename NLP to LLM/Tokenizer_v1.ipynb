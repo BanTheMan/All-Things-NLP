{
 "cells": [
  {
   "cell_type": "markdown",
   "id": "78d1ef90",
   "metadata": {},
   "source": [
    "Series: NLP from basic principles to LLMs\n",
    "NLP: (Natural Language Processing)\n",
    "LLMs: (Large Language Models)\n",
    "\n",
    "My first Jupyter Folder: Tokenizers\n",
    "\n",
    "Tokenizing: How we get text to numbers.\n",
    "\n",
    "(This tokenizer has minimal safegaurds and leaves words with contractions)"
   ]
  },
  {
   "cell_type": "code",
   "execution_count": 5,
   "id": "d4c6724a",
   "metadata": {
    "scrolled": true
   },
   "outputs": [
    {
     "name": "stdout",
     "output_type": "stream",
     "text": [
      "Input a sentence to be tokenized: \n",
      "\n",
      "no-biggie! I'm       no noobie.\n",
      "\n",
      "New Sentence: \n",
      "no biggie  i'm       no noobie \n",
      "\n",
      "Words list: \n",
      "['no', 'biggie', '', \"i'm\", '', '', '', '', '', '', 'no', 'noobie', '']\n",
      "\n",
      "Dictionary: \n",
      "{'no': 1, 'biggie': 2, \"i'm\": 4, 'noobie': 5}\n",
      "\n",
      "Tokenized Sentence: \n",
      "[1, 2, 4, 1, 5]\n"
     ]
    }
   ],
   "source": [
    "# take in a setence to be tokenized\n",
    "print(\"Input a sentence to be tokenized: \\n\")\n",
    "sentence = input().lower()\n",
    "\n",
    "\n",
    "# remove clutter from sentence\n",
    "if \"-\" in sentence:\n",
    "    sentence = sentence.replace('-', ' ')\n",
    "if \",\" in sentence:\n",
    "    sentence = sentence.replace(',', ' ')\n",
    "if \".\" in sentence:\n",
    "    sentence = sentence.replace('.', ' ')\n",
    "if \"!\" in sentence:\n",
    "    sentence = sentence.replace('!', ' ')\n",
    "if \"?\" in sentence:\n",
    "    sentence = sentence.replace('?', ' ')\n",
    "if \":\" in sentence:\n",
    "    sentence = sentence.replace(':', ' ')\n",
    "if \";\" in sentence:\n",
    "    sentence = sentence.replace(';', ' ')\n",
    "if '\"' in sentence:\n",
    "    sentence = sentence.replace('\"', ' ')\n",
    "# check with: \n",
    "print(\"\\nNew Sentence: \\n\" + sentence)\n",
    "\n",
    "\n",
    "# divise the sentence into it's individual words\n",
    "words = sentence.split(' ') # returns a list []\n",
    "# check with: \n",
    "print(\"\\nWords list: \\n\" + str(words))\n",
    "\n",
    "\n",
    "# create a dictionary to store each word\n",
    "dictionary = {\n",
    "    # key=word: value=chronological_number\n",
    "}\n",
    "\n",
    "\n",
    "# insert and assign each word into the dictionary\n",
    "for word in words:\n",
    "    # check if word exists\n",
    "    try:\n",
    "        if not dictionary[word] > 0:\n",
    "            # the word has no value\n",
    "            dictionary[word] = len(dictionary) + 1\n",
    "    except KeyError:\n",
    "        # the word is not in the dictionary\n",
    "        dictionary[word] = len(dictionary) + 1\n",
    "    # word already stored\n",
    "    \n",
    "# remove blank words\n",
    "if '' in dictionary:\n",
    "    del dictionary['']\n",
    "# check with: \n",
    "print(\"\\nDictionary: \\n\" + str(dictionary))\n",
    "# there should be no duplicate words or numbers\n",
    "\n",
    "\n",
    "# create a sentence of the values of each word\n",
    "tokenized_sentence = []\n",
    "for word in words:\n",
    "    if not word == '':\n",
    "        token = dictionary[word]\n",
    "        tokenized_sentence.append(token)  \n",
    "# check with: \n",
    "print(\"\\nTokenized Sentence: \\n\" + str(tokenized_sentence))"
   ]
  }
 ],
 "metadata": {
  "kernelspec": {
   "display_name": "Python 3 (ipykernel)",
   "language": "python",
   "name": "python3"
  },
  "language_info": {
   "codemirror_mode": {
    "name": "ipython",
    "version": 3
   },
   "file_extension": ".py",
   "mimetype": "text/x-python",
   "name": "python",
   "nbconvert_exporter": "python",
   "pygments_lexer": "ipython3",
   "version": "3.10.12"
  }
 },
 "nbformat": 4,
 "nbformat_minor": 5
}
