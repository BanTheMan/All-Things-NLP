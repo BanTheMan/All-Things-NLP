{
 "cells": [
  {
   "cell_type": "markdown",
   "id": "78d1ef90",
   "metadata": {},
   "source": [
    "Series: NLP from basic principles to LLMs\n",
    "NLP: (Natural Language Processing)\n",
    "LLMs: (Large Language Models)\n",
    "\n",
    "My first Jupyter Folder: Tokenizers\n",
    "\n",
    "Tokenizing: How we get text to numbers.\n",
    "\n",
    "(This tokenizer has minimal safegaurds and leaves words with contractions)"
   ]
  },
  {
   "cell_type": "code",
   "execution_count": 2,
   "id": "d4c6724a",
   "metadata": {
    "scrolled": true
   },
   "outputs": [
    {
     "name": "stdout",
     "output_type": "stream",
     "text": [
      "Input a sentence to be tokenized: \n",
      "\n",
      "does this-hold UP, with 'this, 'this, and this!\n"
     ]
    }
   ],
   "source": [
    "# take in a setence to be tokenized\n",
    "print(\"Input a sentence to be tokenized: \\n\")\n",
    "sentence = input().lower()"
   ]
  },
  {
   "cell_type": "code",
   "execution_count": 5,
   "id": "6fd45bdd",
   "metadata": {},
   "outputs": [
    {
     "name": "stdout",
     "output_type": "stream",
     "text": [
      "\n",
      "New Sentence: \n",
      " does this hold up with this this and this \n"
     ]
    }
   ],
   "source": [
    "# remove clutter from sentence\n",
    "characters = ('-', ',', '.', '!', '?', ':', ';', '\"', '  ', \"\\' \", \" \\'\")\n",
    "for character in characters:\n",
    "    sentence = sentence.replace(character, ' ')\n",
    "# check with: \n",
    "print(f\"\\nNew Sentence:\\n{sentence}\")"
   ]
  },
  {
   "cell_type": "code",
   "execution_count": 6,
   "id": "76c44a54",
   "metadata": {},
   "outputs": [
    {
     "name": "stdout",
     "output_type": "stream",
     "text": [
      "\n",
      "Removed Whitespace Sentence: \n",
      " does this hold up with this this and this \n"
     ]
    }
   ],
   "source": [
    "# remove unnecessary whitespace\n",
    "# can also use recursion \n",
    "while '  ' in sentence:\n",
    "    sentence = sentence.replace('  ', ' ')\n",
    "# check with:\n",
    "print(f\"\\nRemoved Whitespace Sentence:\\n{sentence}\")"
   ]
  },
  {
   "cell_type": "code",
   "execution_count": 7,
   "id": "02c038c0",
   "metadata": {},
   "outputs": [
    {
     "name": "stdout",
     "output_type": "stream",
     "text": [
      "\n",
      "Words list: \n",
      " ['does', 'this', 'hold', 'up', 'with', 'this', 'this', 'and', 'this', '']\n"
     ]
    }
   ],
   "source": [
    "# divide the sentence into its individual words\n",
    "words = sentence.split(' ') # returns a list []\n",
    "# check with: \n",
    "print(f\"\\nWords list:\\n{str(words)}\")"
   ]
  },
  {
   "cell_type": "code",
   "execution_count": 8,
   "id": "a8a38e88",
   "metadata": {},
   "outputs": [],
   "source": [
    "# create a dictionary to store each word\n",
    "dictionary = {\n",
    "    # key=word: value=chronological_number\n",
    "}"
   ]
  },
  {
   "cell_type": "code",
   "execution_count": 9,
   "id": "b1edfd0a",
   "metadata": {},
   "outputs": [],
   "source": [
    "# insert and assign each word into the dictionary\n",
    "for word in words:\n",
    "    # check if word exists\n",
    "    try:\n",
    "        if not dictionary[word] > 0:\n",
    "            # the word has no value\n",
    "            dictionary[word] = len(dictionary) + 1\n",
    "    except KeyError:\n",
    "        # the word is not in the dictionary\n",
    "        dictionary[word] = len(dictionary) + 1\n",
    "    # word already stored"
   ]
  },
  {
   "cell_type": "code",
   "execution_count": 10,
   "id": "cd7f325f",
   "metadata": {},
   "outputs": [
    {
     "name": "stdout",
     "output_type": "stream",
     "text": [
      "\n",
      "Dictionary: \n",
      " {'does': 1, 'this': 2, 'hold': 3, 'up': 4, 'with': 5, 'and': 6}\n"
     ]
    }
   ],
   "source": [
    "# remove blank words\n",
    "if '' in dictionary:\n",
    "    del dictionary['']\n",
    "# check with: \n",
    "print(f\"\\nDictionary:\\n{str(dictionary)}\")\n",
    "# there should be no duplicate words or numbers"
   ]
  },
  {
   "cell_type": "code",
   "execution_count": 11,
   "id": "5e98f7d6",
   "metadata": {},
   "outputs": [
    {
     "name": "stdout",
     "output_type": "stream",
     "text": [
      "\n",
      "Tokenized Sentence: \n",
      " [1, 2, 3, 4, 5, 2, 2, 6, 2]\n"
     ]
    }
   ],
   "source": [
    "# create a sentence of the values of each word\n",
    "tokenized_sentence = []\n",
    "for word in words:\n",
    "    if not word == '':\n",
    "        token = dictionary[word]\n",
    "        tokenized_sentence.append(token)  \n",
    "# check with: \n",
    "print(f\"\\nTokenized Sentence:\\n{str(tokenized_sentence)}\")"
   ]
  }
 ],
 "metadata": {
  "kernelspec": {
   "display_name": "Python 3 (ipykernel)",
   "language": "python",
   "name": "python3"
  },
  "language_info": {
   "codemirror_mode": {
    "name": "ipython",
    "version": 3
   },
   "file_extension": ".py",
   "mimetype": "text/x-python",
   "name": "python",
   "nbconvert_exporter": "python",
   "pygments_lexer": "ipython3",
   "version": "3.10.12"
  }
 },
 "nbformat": 4,
 "nbformat_minor": 5
}
